{
 "cells": [
  {
   "cell_type": "code",
   "execution_count": 155,
   "id": "01f4cdef-7fbf-49e0-8bd1-5a14e676f51b",
   "metadata": {},
   "outputs": [],
   "source": [
    "import xarray as xr\n",
    "import matplotlib.pyplot as plt\n",
    "import saildrone_processing\n",
    "from front_detection import detect_grad_1d\n",
    "from front_detection import match_obs_alt\n",
    "import functions\n",
    "import numpy as np\n",
    "import pandas as pd\n",
    "from functions import import_cmems\n",
    "import matplotlib as mpl"
   ]
  },
  {
   "cell_type": "markdown",
   "id": "3284cfd8-039f-47ef-a005-6f244667fabf",
   "metadata": {},
   "source": [
    "## Importing Saildrone data"
   ]
  },
  {
   "cell_type": "code",
   "execution_count": 2,
   "id": "e9f561b6-ad17-40e7-a1c8-eb24c1ccdd41",
   "metadata": {},
   "outputs": [],
   "source": [
    "ds_saildrone = xr.open_mfdataset(\"~/shared/antarctic_sd_data/saildrone-gen_5-antarctica_circumnavigation_2019-sd1020-20190119T040000-20190803T043000-1_minutes-v1.1620360815446.nc\", chunks='auto')"
   ]
  },
  {
   "cell_type": "code",
   "execution_count": 140,
   "id": "45ddc055-7d2e-4b28-be27-1a30c1b46e46",
   "metadata": {},
   "outputs": [],
   "source": [
    "variables = [\n",
    "    'TEMP_CTD_RBR_STDDEV',\n",
    "    'TEMP_CTD_RBR_MEAN',\n",
    "    'SAL_RBR_MEAN',\n",
    "    'SAL_RBR_STDDEV',\n",
    "    'O2_CONC_AANDERAA_MEAN',\n",
    "    'O2_CONC_AANDERAA_STDDEV',\n",
    "    'CHLOR_RBR_MEAN',\n",
    "    'CHLOR_RBR_STDDEV']\n",
    "\n",
    "# gdf = saildrone_processing.prepare_data(ds_saildrone, variables, aggregate_method='mean', \n",
    "#                                         resample_to='1440Min')\n",
    "gdf = saildrone_processing.prepare_data(ds_saildrone, variables, aggregate_method='mean', \n",
    "                                        resample_to='720Min')"
   ]
  },
  {
   "cell_type": "code",
   "execution_count": 106,
   "id": "aefe68f2-9035-4c5f-aea1-80791f628cee",
   "metadata": {},
   "outputs": [],
   "source": [
    "lat_sdrn  = gdf.latitude\n",
    "lon_sdrn  = gdf.longitude\n",
    "time_sdrn = gdf.time"
   ]
  },
  {
   "cell_type": "markdown",
   "id": "b6836fd3-79df-4666-8157-354c82a72e8e",
   "metadata": {},
   "source": [
    "## Importing the variable from CMEMS"
   ]
  },
  {
   "cell_type": "code",
   "execution_count": null,
   "id": "00698e4f-5101-43ab-9b54-43642f45d87d",
   "metadata": {},
   "outputs": [],
   "source": [
    "# Importing the variable from CMEMS\n",
    "# Remember that once the credentials are used, you will need to change your password at CMEMS\n",
    "# it is a bug to be solved in this function\n",
    "# var = import_cmems('adt', \n",
    "#       'https://my.cmems-du.eu/thredds/dodsC/cmems_obs-sl_glo_phy-ssh_my_allsat-l4-duacs-0.25deg_P1D', \n",
    "#       'fsilva3', '', -180, 180, -65, -45, '2019-01-01', '2020-01-01')"
   ]
  },
  {
   "cell_type": "markdown",
   "id": "2b350a35-c34c-43d1-92ca-48bb5148fb9c",
   "metadata": {},
   "source": [
    "## Below, we select the positions of the in situ observation that matches with the peaks in the SSH gradient\n",
    "\n",
    "--> It will return the regions where the in situ observations lie within or outside mesoscale fronts"
   ]
  },
  {
   "cell_type": "code",
   "execution_count": 115,
   "id": "9e869d18-9078-414d-902f-fbd3224c4bd3",
   "metadata": {},
   "outputs": [],
   "source": [
    "def match_obs_alt(altimeter, lon_sdrn, lat_sdrn, threshold = 2*1e-6):\n",
    "    ''' Match the position of the peaks in SSH grad with the position of the in situ observation\n",
    "    Writers: Felipe Vilela da Silva and Alessio Arena\n",
    "    ==============================================================================\n",
    "    INPUTS:\n",
    "    \n",
    "    OUTPUTS:\n",
    "    '''\n",
    "    \n",
    "    if ~np.isnan(lat_sdrn):\n",
    "        ## Next, I extract the altimeter information nearby the in situ observation\n",
    "        alt_at_obs = altimeter.sel(latitude = slice(lat_sdrn-1, lat_sdrn+1), \n",
    "                                   longitude = slice(lon_sdrn-1,lon_sdrn+1))\n",
    "\n",
    "        # TODO: if interested, find a more accurate way to convert deg to m\n",
    "        # we have first followed the latitudinal and longitudinal distances but it only worked\n",
    "        # if we turned the xarray into a np.array. We preferred to keep it as a xarray atm.\n",
    "        deg_to_m = 111195.\n",
    "        var_x = alt_at_obs.differentiate('longitude')/deg_to_m\n",
    "        var_y = alt_at_obs.differentiate('latitude')/deg_to_m\n",
    "        ## Below, I compute the module of the gradient \n",
    "        gradient = np.sqrt(var_x**2 + var_y**2)\n",
    "\n",
    "        grad_thld   = gradient.where(gradient > threshold)\n",
    "        grad_at_obs = grad_thld.sel(latitude=lat_sdrn.data, longitude=lon_sdrn.data, \n",
    "                                    method = 'nearest').data.item()\n",
    "    \n",
    "        return ~np.isnan(grad_at_obs)\n",
    "    else:\n",
    "        return False"
   ]
  },
  {
   "cell_type": "code",
   "execution_count": 124,
   "id": "51b82209-8769-41ce-9e71-3651ed7139ad",
   "metadata": {},
   "outputs": [],
   "source": [
    "# %time\n",
    "# bol_pos = np.ravel([np.array(match_obs_alt(var.sel(time=str(time_sdrn[t]), method = 'nearest'), \n",
    "#                     lon_sdrn[t], lat_sdrn[t])) for t in range(len(lon_sdrn))])"
   ]
  },
  {
   "cell_type": "markdown",
   "id": "254b3367-56c9-445e-b737-2c5f2029dcba",
   "metadata": {},
   "source": [
    "### Then, we look for gradients in the in situ observations within the mesoscale front\n",
    "--> It will return the regions where the in situ observations captured smaler scale fronts"
   ]
  },
  {
   "cell_type": "code",
   "execution_count": 157,
   "id": "2fec9f29-b149-4ab0-baf7-875554cb3ef5",
   "metadata": {},
   "outputs": [],
   "source": [
    "gdf_gradSSH = gdf.loc[bol_pos].copy()\n",
    "gdf_nogradSSH = gdf.loc[~bol_pos].copy()"
   ]
  },
  {
   "cell_type": "code",
   "execution_count": 147,
   "id": "6a3420b5-3bd0-411b-9f29-e0c41b62f912",
   "metadata": {},
   "outputs": [],
   "source": [
    "distance = functions.distFromStart(gdf_gradSSH.latitude.values, gdf_gradSSH.longitude.values)\n",
    "gdf_gradSSH['distance_km'] = distance"
   ]
  },
  {
   "cell_type": "code",
   "execution_count": 152,
   "id": "b1f60032-b45f-43f7-8f54-4eeca34d08dd",
   "metadata": {},
   "outputs": [],
   "source": [
    "# input the data variable that you want to find fronts with\n",
    "var = 'TEMP_CTD_RBR_MEAN'\n",
    "\n",
    "# TO DO: Discuss what criterion we should use for different variables.\n",
    "# criterion = [0.01, 0.05, 0.25, 0.75, 1] \n",
    "criterion = [0, 0.001, 0.0025, 0.005, 0.01] \n",
    "\n",
    "temp_fronts = detect_grad_1d(gdf_gradSSH, var, criterion, x_bin = 500, min_obs = False)"
   ]
  },
  {
   "cell_type": "code",
   "execution_count": 190,
   "id": "d9327132-b337-4cf0-bd3c-00355a0f979f",
   "metadata": {},
   "outputs": [
    {
     "data": {
      "text/plain": [
       "(-180.0, 180.0)"
      ]
     },
     "execution_count": 190,
     "metadata": {},
     "output_type": "execute_result"
    },
    {
     "data": {
      "image/png": "[encoded data removed]",
      "text/plain": [
       "<Figure size 1080x216 with 2 Axes>"
      ]
     },
     "metadata": {
      "needs_background": "light"
     },
     "output_type": "display_data"
    }
   ],
   "source": [
    "fig, ax = plt.subplots(figsize = (15,3))\n",
    "\n",
    "cmap = plt.cm.viridis\n",
    "norm = mpl.colors.BoundaryNorm(np.arange(0, len(criterion)+1, 1), cmap.N)\n",
    "\n",
    "plt.scatter(gdf_nogradSSH.longitude, gdf_nogradSSH.latitude, c = 'r', label = 'no SSH grad', alpha = .1,\n",
    "            edgecolors = 'w')\n",
    "plt.scatter(temp_fronts.longitude, temp_fronts.latitude, c = temp_fronts.level, norm = norm, s = 50,\n",
    "            edgecolors = 'k')\n",
    "\n",
    "# CS = mean_sea_level.plot.contour(colors = 'dimgrey', alpha = 0.5, linewidths = 1.2, levels = adt_levels)\n",
    "plt.xlabel('longitude')\n",
    "plt.ylabel('latitude')\n",
    "plt.colorbar(label = 'Level', ticks = np.arange(0, len(criterion)+1, 1))\n",
    "plt.title('Temperature Fronts')\n",
    "plt.xlim(-180,180)"
   ]
  },
  {
   "cell_type": "code",
   "execution_count": null,
   "id": "85429b3c-04e0-4804-bc99-b503e5359216",
   "metadata": {},
   "outputs": [],
   "source": []
  }
 ],
 "metadata": {
  "kernelspec": {
   "display_name": "Python 3 (ipykernel)",
   "language": "python",
   "name": "python3"
  },
  "language_info": {
   "codemirror_mode": {
    "name": "ipython",
    "version": 3
   },
   "file_extension": ".py",
   "mimetype": "text/x-python",
   "name": "python",
   "nbconvert_exporter": "python",
   "pygments_lexer": "ipython3",
   "version": "3.9.13"
  }
 },
 "nbformat": 4,
 "nbformat_minor": 5
}
